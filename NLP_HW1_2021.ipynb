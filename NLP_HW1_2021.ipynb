{
 "cells": [
  {
   "cell_type": "markdown",
   "metadata": {},
   "source": [
    "# NL HW 1 (2021)"
   ]
  },
  {
   "cell_type": "markdown",
   "metadata": {},
   "source": [
    "## Дарья Родионова БКЛ182"
   ]
  },
  {
   "cell_type": "markdown",
   "metadata": {},
   "source": [
    "### Keywords Extraction"
   ]
  },
  {
   "cell_type": "code",
   "execution_count": 159,
   "metadata": {},
   "outputs": [
    {
     "name": "stderr",
     "output_type": "stream",
     "text": [
      "[nltk_data] Downloading package punkt to\n",
      "[nltk_data]     /Users/ddrodionova/nltk_data...\n",
      "[nltk_data]   Package punkt is already up-to-date!\n",
      "[nltk_data] Downloading package stopwords to\n",
      "[nltk_data]     /Users/ddrodionova/nltk_data...\n",
      "[nltk_data]   Package stopwords is already up-to-date!\n"
     ]
    }
   ],
   "source": [
    "import re\n",
    "\n",
    "import pandas as pd\n",
    "import numpy as np\n",
    "\n",
    "import spacy\n",
    "import nltk\n",
    "from nltk import word_tokenize\n",
    "from nltk.corpus import stopwords\n",
    "\n",
    "nltk.download(['punkt', 'stopwords'])\n",
    "\n",
    "import RAKE\n",
    "from summa.textrank import textrank\n",
    "from sklearn.feature_extraction.text import TfidfVectorizer"
   ]
  },
  {
   "cell_type": "markdown",
   "metadata": {},
   "source": [
    "### 1. Подготовка мини-корпуса"
   ]
  },
  {
   "cell_type": "markdown",
   "metadata": {},
   "source": [
    "В качестве мини-корпуса я выбрала [датасет](https://www.kaggle.com/achintyatripathi/news-dataset-18920) с Kaggle, который в основном содержит индийские новости про технологии и образование. "
   ]
  },
  {
   "cell_type": "code",
   "execution_count": 32,
   "metadata": {},
   "outputs": [],
   "source": [
    "data = pd.read_csv('news_dataset.csv')"
   ]
  },
  {
   "cell_type": "code",
   "execution_count": 33,
   "metadata": {},
   "outputs": [
    {
     "data": {
      "text/html": [
       "<div>\n",
       "<style scoped>\n",
       "    .dataframe tbody tr th:only-of-type {\n",
       "        vertical-align: middle;\n",
       "    }\n",
       "\n",
       "    .dataframe tbody tr th {\n",
       "        vertical-align: top;\n",
       "    }\n",
       "\n",
       "    .dataframe thead th {\n",
       "        text-align: right;\n",
       "    }\n",
       "</style>\n",
       "<table border=\"1\" class=\"dataframe\">\n",
       "  <thead>\n",
       "    <tr style=\"text-align: right;\">\n",
       "      <th></th>\n",
       "      <th>Unnamed: 0</th>\n",
       "      <th>Unnamed: 0.1</th>\n",
       "      <th>link</th>\n",
       "      <th>text</th>\n",
       "      <th>title</th>\n",
       "      <th>date</th>\n",
       "      <th>keywords</th>\n",
       "      <th>summary</th>\n",
       "      <th>title_summary</th>\n",
       "    </tr>\n",
       "  </thead>\n",
       "  <tbody>\n",
       "    <tr>\n",
       "      <th>0</th>\n",
       "      <td>0</td>\n",
       "      <td>0</td>\n",
       "      <td>http://techcrunch.com/2020/09/07/vodafone-idea...</td>\n",
       "      <td>Vodafone Idea, one of the largest telecom oper...</td>\n",
       "      <td>Indian telecom giant Vodafone Idea rebrands as...</td>\n",
       "      <td>2020-09-07 00:00:00</td>\n",
       "      <td>['rebrands', 'idea', 'vi', 'giant', 'brand', '...</td>\n",
       "      <td>Vodafone Idea, one of the largest telecom oper...</td>\n",
       "      <td>Indian telecom giant Vodafone Idea rebrands as...</td>\n",
       "    </tr>\n",
       "    <tr>\n",
       "      <th>1</th>\n",
       "      <td>1</td>\n",
       "      <td>1</td>\n",
       "      <td>http://techcrunch.com/2020/09/16/facebook-addr...</td>\n",
       "      <td>At the beginning of the previous decade, Faceb...</td>\n",
       "      <td>Facebook addresses political controversy in In...</td>\n",
       "      <td>2020-09-16 00:00:00</td>\n",
       "      <td>['opportunities', 'whatsapp', 'controversy', '...</td>\n",
       "      <td>Politicians in the country today heavily rely ...</td>\n",
       "      <td>Facebook addresses political controversy in In...</td>\n",
       "    </tr>\n",
       "    <tr>\n",
       "      <th>2</th>\n",
       "      <td>2</td>\n",
       "      <td>2</td>\n",
       "      <td>http://techcrunch.com/2020/09/14/youtube-launc...</td>\n",
       "      <td>As TikTok’s fate in the U.S. remains murky, Yo...</td>\n",
       "      <td>YouTube launches its TikTok rival, YouTube Sho...</td>\n",
       "      <td>2020-09-14 00:00:00</td>\n",
       "      <td>['rival', 'video', 'feature', 'access', 'youtu...</td>\n",
       "      <td>As TikTok’s fate in the U.S. remains murky, Yo...</td>\n",
       "      <td>YouTube launches its TikTok rival, YouTube Sho...</td>\n",
       "    </tr>\n",
       "    <tr>\n",
       "      <th>3</th>\n",
       "      <td>3</td>\n",
       "      <td>3</td>\n",
       "      <td>http://techcrunch.com/2020/09/09/groww-an-inve...</td>\n",
       "      <td>Even as more than 150 million people are using...</td>\n",
       "      <td>Groww, an investment app for millennials in In...</td>\n",
       "      <td>2020-09-09 00:00:00</td>\n",
       "      <td>['world', 'yc', 'continuity', 'stocks', 'groww...</td>\n",
       "      <td>YC Continuity, the growth-stage investment fun...</td>\n",
       "      <td>Groww, an investment app for millennials in In...</td>\n",
       "    </tr>\n",
       "    <tr>\n",
       "      <th>4</th>\n",
       "      <td>4</td>\n",
       "      <td>4</td>\n",
       "      <td>http://techcrunch.com/2020/09/15/lanzatech-is-...</td>\n",
       "      <td>As part of the continuing global rollout of La...</td>\n",
       "      <td>LanzaTech is developing a small-scale waste bi...</td>\n",
       "      <td>2020-09-15 00:00:00</td>\n",
       "      <td>['production', 'distributed', 'developing', 's...</td>\n",
       "      <td>As part of the continuing global rollout of La...</td>\n",
       "      <td>LanzaTech is developing a small-scale waste bi...</td>\n",
       "    </tr>\n",
       "    <tr>\n",
       "      <th>5</th>\n",
       "      <td>5</td>\n",
       "      <td>5</td>\n",
       "      <td>http://techcrunch.com/2020/09/15/facebook-anno...</td>\n",
       "      <td>More than a third of small and medium-sized bu...</td>\n",
       "      <td>Facebook announces $4.3 million grant for smal...</td>\n",
       "      <td>2020-09-15 00:00:00</td>\n",
       "      <td>['businesses', 'pandemic', 'support', 'cash', ...</td>\n",
       "      <td>The social giant today announced a grant of $4...</td>\n",
       "      <td>Facebook announces $4.3 million grant for smal...</td>\n",
       "    </tr>\n",
       "    <tr>\n",
       "      <th>6</th>\n",
       "      <td>6</td>\n",
       "      <td>6</td>\n",
       "      <td>http://techcrunch.com/2020/09/14/indian-e-comm...</td>\n",
       "      <td>CashKaro, one of the leading cashback and coup...</td>\n",
       "      <td>Indian e-commerce deals site CashKaro gets $10...</td>\n",
       "      <td>2020-09-14 00:00:00</td>\n",
       "      <td>['site', 'korea', 'shoppers', 'gets', 'series'...</td>\n",
       "      <td>TechCrunch last covered CashKaro five years ag...</td>\n",
       "      <td>Indian e-commerce deals site CashKaro gets $10...</td>\n",
       "    </tr>\n",
       "    <tr>\n",
       "      <th>7</th>\n",
       "      <td>7</td>\n",
       "      <td>7</td>\n",
       "      <td>http://techcrunch.com/2020/09/15/virtual-event...</td>\n",
       "      <td>Airmeet, a startup that offers a platform to h...</td>\n",
       "      <td>Virtual events platform Airmeet raises $12M – ...</td>\n",
       "      <td>2020-09-15 00:00:00</td>\n",
       "      <td>['platform', 'global', 'virtual', 'capital', '...</td>\n",
       "      <td>Sequoia Capital India led the $12 million Seri...</td>\n",
       "      <td>Virtual events platform Airmeet raises $12M – ...</td>\n",
       "    </tr>\n",
       "    <tr>\n",
       "      <th>8</th>\n",
       "      <td>8</td>\n",
       "      <td>8</td>\n",
       "      <td>http://techcrunch.com/2020/09/15/indian-decaco...</td>\n",
       "      <td>Since India enforced a lockdown across the cou...</td>\n",
       "      <td>Indian decacorn Byju’s CEO talks about future ...</td>\n",
       "      <td>2020-09-15 00:00:00</td>\n",
       "      <td>['pandemic', 'talks', 'expansion', 'coronaviru...</td>\n",
       "      <td>It took the startup about four and a half year...</td>\n",
       "      <td>Indian decacorn Byju’s CEO talks about future ...</td>\n",
       "    </tr>\n",
       "    <tr>\n",
       "      <th>9</th>\n",
       "      <td>9</td>\n",
       "      <td>9</td>\n",
       "      <td>http://techcrunch.com/2020/09/07/silver-lake-l...</td>\n",
       "      <td>Byju’s has raised $500 million in a new financ...</td>\n",
       "      <td>Silver Lake leads $500 million investment roun...</td>\n",
       "      <td>2020-09-07 00:00:00</td>\n",
       "      <td>['learning', 'students', 'statement', 'lake', ...</td>\n",
       "      <td>Byju’s has raised $500 million in a new financ...</td>\n",
       "      <td>Silver Lake leads $500 million investment roun...</td>\n",
       "    </tr>\n",
       "  </tbody>\n",
       "</table>\n",
       "</div>"
      ],
      "text/plain": [
       "   Unnamed: 0  Unnamed: 0.1  \\\n",
       "0           0             0   \n",
       "1           1             1   \n",
       "2           2             2   \n",
       "3           3             3   \n",
       "4           4             4   \n",
       "5           5             5   \n",
       "6           6             6   \n",
       "7           7             7   \n",
       "8           8             8   \n",
       "9           9             9   \n",
       "\n",
       "                                                link  \\\n",
       "0  http://techcrunch.com/2020/09/07/vodafone-idea...   \n",
       "1  http://techcrunch.com/2020/09/16/facebook-addr...   \n",
       "2  http://techcrunch.com/2020/09/14/youtube-launc...   \n",
       "3  http://techcrunch.com/2020/09/09/groww-an-inve...   \n",
       "4  http://techcrunch.com/2020/09/15/lanzatech-is-...   \n",
       "5  http://techcrunch.com/2020/09/15/facebook-anno...   \n",
       "6  http://techcrunch.com/2020/09/14/indian-e-comm...   \n",
       "7  http://techcrunch.com/2020/09/15/virtual-event...   \n",
       "8  http://techcrunch.com/2020/09/15/indian-decaco...   \n",
       "9  http://techcrunch.com/2020/09/07/silver-lake-l...   \n",
       "\n",
       "                                                text  \\\n",
       "0  Vodafone Idea, one of the largest telecom oper...   \n",
       "1  At the beginning of the previous decade, Faceb...   \n",
       "2  As TikTok’s fate in the U.S. remains murky, Yo...   \n",
       "3  Even as more than 150 million people are using...   \n",
       "4  As part of the continuing global rollout of La...   \n",
       "5  More than a third of small and medium-sized bu...   \n",
       "6  CashKaro, one of the leading cashback and coup...   \n",
       "7  Airmeet, a startup that offers a platform to h...   \n",
       "8  Since India enforced a lockdown across the cou...   \n",
       "9  Byju’s has raised $500 million in a new financ...   \n",
       "\n",
       "                                               title                 date  \\\n",
       "0  Indian telecom giant Vodafone Idea rebrands as...  2020-09-07 00:00:00   \n",
       "1  Facebook addresses political controversy in In...  2020-09-16 00:00:00   \n",
       "2  YouTube launches its TikTok rival, YouTube Sho...  2020-09-14 00:00:00   \n",
       "3  Groww, an investment app for millennials in In...  2020-09-09 00:00:00   \n",
       "4  LanzaTech is developing a small-scale waste bi...  2020-09-15 00:00:00   \n",
       "5  Facebook announces $4.3 million grant for smal...  2020-09-15 00:00:00   \n",
       "6  Indian e-commerce deals site CashKaro gets $10...  2020-09-14 00:00:00   \n",
       "7  Virtual events platform Airmeet raises $12M – ...  2020-09-15 00:00:00   \n",
       "8  Indian decacorn Byju’s CEO talks about future ...  2020-09-15 00:00:00   \n",
       "9  Silver Lake leads $500 million investment roun...  2020-09-07 00:00:00   \n",
       "\n",
       "                                            keywords  \\\n",
       "0  ['rebrands', 'idea', 'vi', 'giant', 'brand', '...   \n",
       "1  ['opportunities', 'whatsapp', 'controversy', '...   \n",
       "2  ['rival', 'video', 'feature', 'access', 'youtu...   \n",
       "3  ['world', 'yc', 'continuity', 'stocks', 'groww...   \n",
       "4  ['production', 'distributed', 'developing', 's...   \n",
       "5  ['businesses', 'pandemic', 'support', 'cash', ...   \n",
       "6  ['site', 'korea', 'shoppers', 'gets', 'series'...   \n",
       "7  ['platform', 'global', 'virtual', 'capital', '...   \n",
       "8  ['pandemic', 'talks', 'expansion', 'coronaviru...   \n",
       "9  ['learning', 'students', 'statement', 'lake', ...   \n",
       "\n",
       "                                             summary  \\\n",
       "0  Vodafone Idea, one of the largest telecom oper...   \n",
       "1  Politicians in the country today heavily rely ...   \n",
       "2  As TikTok’s fate in the U.S. remains murky, Yo...   \n",
       "3  YC Continuity, the growth-stage investment fun...   \n",
       "4  As part of the continuing global rollout of La...   \n",
       "5  The social giant today announced a grant of $4...   \n",
       "6  TechCrunch last covered CashKaro five years ag...   \n",
       "7  Sequoia Capital India led the $12 million Seri...   \n",
       "8  It took the startup about four and a half year...   \n",
       "9  Byju’s has raised $500 million in a new financ...   \n",
       "\n",
       "                                       title_summary  \n",
       "0  Indian telecom giant Vodafone Idea rebrands as...  \n",
       "1  Facebook addresses political controversy in In...  \n",
       "2  YouTube launches its TikTok rival, YouTube Sho...  \n",
       "3  Groww, an investment app for millennials in In...  \n",
       "4  LanzaTech is developing a small-scale waste bi...  \n",
       "5  Facebook announces $4.3 million grant for smal...  \n",
       "6  Indian e-commerce deals site CashKaro gets $10...  \n",
       "7  Virtual events platform Airmeet raises $12M – ...  \n",
       "8  Indian decacorn Byju’s CEO talks about future ...  \n",
       "9  Silver Lake leads $500 million investment roun...  "
      ]
     },
     "execution_count": 33,
     "metadata": {},
     "output_type": "execute_result"
    }
   ],
   "source": [
    "data.head(10)"
   ]
  },
  {
   "cell_type": "markdown",
   "metadata": {},
   "source": [
    "Возьмём первые 10 статей и посмотрим, хватает ли нам токенов. "
   ]
  },
  {
   "cell_type": "code",
   "execution_count": 34,
   "metadata": {},
   "outputs": [],
   "source": [
    "news_dataset = data[:10]"
   ]
  },
  {
   "cell_type": "code",
   "execution_count": 35,
   "metadata": {},
   "outputs": [
    {
     "data": {
      "text/plain": [
       "6498"
      ]
     },
     "execution_count": 35,
     "metadata": {},
     "output_type": "execute_result"
    }
   ],
   "source": [
    "news_dataset.text.apply(lambda x: len(x.split())).sum()"
   ]
  },
  {
   "cell_type": "markdown",
   "metadata": {},
   "source": [
    "Выбросим ненужные колонки."
   ]
  },
  {
   "cell_type": "code",
   "execution_count": 36,
   "metadata": {},
   "outputs": [
    {
     "name": "stderr",
     "output_type": "stream",
     "text": [
      "/Library/Frameworks/Python.framework/Versions/3.8/lib/python3.8/site-packages/pandas/core/frame.py:4167: SettingWithCopyWarning: \n",
      "A value is trying to be set on a copy of a slice from a DataFrame\n",
      "\n",
      "See the caveats in the documentation: https://pandas.pydata.org/pandas-docs/stable/user_guide/indexing.html#returning-a-view-versus-a-copy\n",
      "  return super().drop(\n"
     ]
    }
   ],
   "source": [
    "news_dataset.drop(columns=['Unnamed: 0', 'Unnamed: 0.1', 'link', 'title', 'date', 'summary', 'title_summary'], inplace=True)"
   ]
  },
  {
   "cell_type": "code",
   "execution_count": 37,
   "metadata": {},
   "outputs": [
    {
     "data": {
      "text/html": [
       "<div>\n",
       "<style scoped>\n",
       "    .dataframe tbody tr th:only-of-type {\n",
       "        vertical-align: middle;\n",
       "    }\n",
       "\n",
       "    .dataframe tbody tr th {\n",
       "        vertical-align: top;\n",
       "    }\n",
       "\n",
       "    .dataframe thead th {\n",
       "        text-align: right;\n",
       "    }\n",
       "</style>\n",
       "<table border=\"1\" class=\"dataframe\">\n",
       "  <thead>\n",
       "    <tr style=\"text-align: right;\">\n",
       "      <th></th>\n",
       "      <th>text</th>\n",
       "      <th>keywords</th>\n",
       "    </tr>\n",
       "  </thead>\n",
       "  <tbody>\n",
       "    <tr>\n",
       "      <th>0</th>\n",
       "      <td>Vodafone Idea, one of the largest telecom oper...</td>\n",
       "      <td>['rebrands', 'idea', 'vi', 'giant', 'brand', '...</td>\n",
       "    </tr>\n",
       "    <tr>\n",
       "      <th>1</th>\n",
       "      <td>At the beginning of the previous decade, Faceb...</td>\n",
       "      <td>['opportunities', 'whatsapp', 'controversy', '...</td>\n",
       "    </tr>\n",
       "    <tr>\n",
       "      <th>2</th>\n",
       "      <td>As TikTok’s fate in the U.S. remains murky, Yo...</td>\n",
       "      <td>['rival', 'video', 'feature', 'access', 'youtu...</td>\n",
       "    </tr>\n",
       "    <tr>\n",
       "      <th>3</th>\n",
       "      <td>Even as more than 150 million people are using...</td>\n",
       "      <td>['world', 'yc', 'continuity', 'stocks', 'groww...</td>\n",
       "    </tr>\n",
       "    <tr>\n",
       "      <th>4</th>\n",
       "      <td>As part of the continuing global rollout of La...</td>\n",
       "      <td>['production', 'distributed', 'developing', 's...</td>\n",
       "    </tr>\n",
       "    <tr>\n",
       "      <th>5</th>\n",
       "      <td>More than a third of small and medium-sized bu...</td>\n",
       "      <td>['businesses', 'pandemic', 'support', 'cash', ...</td>\n",
       "    </tr>\n",
       "    <tr>\n",
       "      <th>6</th>\n",
       "      <td>CashKaro, one of the leading cashback and coup...</td>\n",
       "      <td>['site', 'korea', 'shoppers', 'gets', 'series'...</td>\n",
       "    </tr>\n",
       "    <tr>\n",
       "      <th>7</th>\n",
       "      <td>Airmeet, a startup that offers a platform to h...</td>\n",
       "      <td>['platform', 'global', 'virtual', 'capital', '...</td>\n",
       "    </tr>\n",
       "    <tr>\n",
       "      <th>8</th>\n",
       "      <td>Since India enforced a lockdown across the cou...</td>\n",
       "      <td>['pandemic', 'talks', 'expansion', 'coronaviru...</td>\n",
       "    </tr>\n",
       "    <tr>\n",
       "      <th>9</th>\n",
       "      <td>Byju’s has raised $500 million in a new financ...</td>\n",
       "      <td>['learning', 'students', 'statement', 'lake', ...</td>\n",
       "    </tr>\n",
       "  </tbody>\n",
       "</table>\n",
       "</div>"
      ],
      "text/plain": [
       "                                                text  \\\n",
       "0  Vodafone Idea, one of the largest telecom oper...   \n",
       "1  At the beginning of the previous decade, Faceb...   \n",
       "2  As TikTok’s fate in the U.S. remains murky, Yo...   \n",
       "3  Even as more than 150 million people are using...   \n",
       "4  As part of the continuing global rollout of La...   \n",
       "5  More than a third of small and medium-sized bu...   \n",
       "6  CashKaro, one of the leading cashback and coup...   \n",
       "7  Airmeet, a startup that offers a platform to h...   \n",
       "8  Since India enforced a lockdown across the cou...   \n",
       "9  Byju’s has raised $500 million in a new financ...   \n",
       "\n",
       "                                            keywords  \n",
       "0  ['rebrands', 'idea', 'vi', 'giant', 'brand', '...  \n",
       "1  ['opportunities', 'whatsapp', 'controversy', '...  \n",
       "2  ['rival', 'video', 'feature', 'access', 'youtu...  \n",
       "3  ['world', 'yc', 'continuity', 'stocks', 'groww...  \n",
       "4  ['production', 'distributed', 'developing', 's...  \n",
       "5  ['businesses', 'pandemic', 'support', 'cash', ...  \n",
       "6  ['site', 'korea', 'shoppers', 'gets', 'series'...  \n",
       "7  ['platform', 'global', 'virtual', 'capital', '...  \n",
       "8  ['pandemic', 'talks', 'expansion', 'coronaviru...  \n",
       "9  ['learning', 'students', 'statement', 'lake', ...  "
      ]
     },
     "execution_count": 37,
     "metadata": {},
     "output_type": "execute_result"
    }
   ],
   "source": [
    "news_dataset"
   ]
  },
  {
   "cell_type": "markdown",
   "metadata": {},
   "source": [
    "### 2. Ручная разметка ключевых слов и создание эталона"
   ]
  },
  {
   "cell_type": "markdown",
   "metadata": {},
   "source": [
    "При выделение ключевых слов я в основном ориентировалась на слова, данные автором датасета. Мне кажется, что некоторые из них сложно назвать ключевыми словами: очень много односложных слов, которые ничего не говорят о тексте статьи (например, абстрактные wolrd или глаголы в странной форме типа gets). Вообще есть такое ощущение, что эти ключевые слова когда-то были размечены копьютером. "
   ]
  },
  {
   "cell_type": "code",
   "execution_count": 44,
   "metadata": {},
   "outputs": [
    {
     "name": "stdout",
     "output_type": "stream",
     "text": [
      "****** TEXT ******\n",
      "\n",
      " Vodafone Idea, one of the largest telecom operators in India, has rebranded as ‘Vi’ as it looks for a “fresh start” three years after the British telecom giant Vodafone Group’s India business and billionaire Kumar Mangalam Birla’s Idea Cellular merged in the country.\n",
      "\n",
      "“As the integration of two businesses is now complete, it’s time for a fresh start. That’s why we believe that now is the perfect time to launch Vi, one company which provides the strength of Vodafone India and Idea,” Vodafone Group CEO Nick Read said at a virtual conference on Monday.\n",
      "\n",
      "Vodafone Idea, once the largest telecom operator in the country with over 400 million subscribers, has lost more than 100 million subscribers in recent years to new comer Jio Platforms in recent years.\n",
      "\n",
      "India’s richest man Mukesh Ambani’s telecom venture has become the largest telecom operator with nearly 400 million subscribers with its cut-rate mobile data tariffs. Jio Platforms has also attracted over $20 billion in investment from high-profile firms including Facebook and Google in recent months.\n",
      "\n",
      "“India is the second largest telecom market and the largest data consumer, globally. With 1.2 billion Indians accessing voice and data services at the world’s lowest tariffs across 500,000 villages, the ubiquitous wireless network in India is unmatched for its reach and impact in people’s lives,” said Kumar Mangalam Birla, Chairman of Aditya Birla Group and Vodafone Idea, at the conference today.W\n",
      "\n",
      "“With our new brand — Vi, we stand committed to partner with government to accelerate India’s progression towards a digital economy, enabling millions of citizens to connect to the digital revolution and build a better tomorrow.”\n",
      "\n",
      "If the brand name changes yet again!\n",
      "\n",
      "It will bem at least, the 9th iteration for both the companies Voda-India’s Previous Brand Names\n",
      "\n",
      "– Max Touch\n",
      "\n",
      "– Orange\n",
      "\n",
      "– Hutch\n",
      "\n",
      "– Vodafone Idea’s Previous Brand Names\n",
      "\n",
      "– Birla AT&T\n",
      "\n",
      "– Birla Tata and AT&T\n",
      "\n",
      "– Idea Cellular Together: VODAFONE IDEA https://t.co/ovuY5M5Us4 — Mangalam Maloo (@blitzkreigm) September 7, 2020\n",
      "\n",
      "Vodafone Idea — or Vi, has yet to turn a profit since it joined forces. The company said it will continue to invest in 4G wireless technology, which now reaches more than 1 billion people in India, double the coverage at the time of merger announcement.\n",
      "\n",
      "Last week, the company received approval from shareholders to sell stake worth $3.4 billion by selling shares and raising debt. The company received a much needed relief in India earlier this month after nation’s apex court granted Vodafone Idea and Bharti Airtel, another giant telecom operator in India, with 10 years to pay billions they owe to the government.\n",
      "\n",
      "Prior to the court ruling, Vodafone Group had warned that Indian government’s short-deadline of three months to clear the dues was not feasible for the telecom firm and it would have no choice but to exit the market.\n",
      "\n",
      "Vodafone Idea’s shares, which were up 10% in morning trade, were 3.30% immediately after the announcement Monday.\n",
      "\n",
      "****** KEYWORDS ******\n",
      "\n",
      " ['rebrands', 'idea', 'vi', 'giant', 'brand', 'largest', 'billion', 'techcrunch', 'birla', 'india', 'telecom', 'company', 'vodafone', 'indian']\n",
      "Keywords: vodafone, vi, india, wireless technology\n",
      "****** TEXT ******\n",
      "\n",
      " At the beginning of the previous decade, Facebook had a tiny presence in India. It had just started to slowly expand its team in the country and was inking deals with telecom operators to make access to its service free to users and even offer incentives such as free voice credit.\n",
      "\n",
      "India’s internet population, now the second largest with more than 500 million connected users, itself was very small. In early 2011, the country had fewer than 100 million internet users.\n",
      "\n",
      "But Facebook ended up playing a crucial role in the last decade. So much so that by the end of it, the social juggernaut was reaching nearly every internet user in the country. WhatsApp alone reaches more than 400 million internet users in India, more than any other app in the country, according to mobile insight firm App Annie.\n",
      "\n",
      "This reach of Facebook in India didn’t go unnoticed. Politicians in the country today heavily rely on Facebook services, including WhatsApp, to get their message out. But it has also complicated things.\n",
      "\n",
      "Rumors have spread on WhatsApp that cost lives, and politicians from both the large political parties in India in recent weeks have accused the company of showing favoritism to the other side.\n",
      "\n",
      "To address these issues, and the role Facebook wishes to play in India, Ajit Mohan, the head of the company’s business in the country, joined us at Disrupt 2020. Following are some of the highlights.\n",
      "\n",
      "On controversy\n",
      "\n",
      "A recent report in WSJ claimed that Ankhi Das, one of Facebook’s top executives in India, decided against taking down a post from a politician from the ruling party. She did so, the report claimed, because she feared it could hurt the company’s business prospects in India.\n",
      "\n",
      "In Mohan’s first interview since the controversy broke, he refuted the claims that any executive in the country holds power to influence how Facebook enforces its content policy.\n",
      "\n",
      "“We believe that it’s important for us to be open and neutral and non-partisan,” he said. “We have deep belief and conviction that our enabling role is as a neutral party that allows speech of all kinds, that allows expression of all kinds, including political expression, and a lot of the guidelines that we have developed are to make sure that we really enable our diversity of expression and opinion so long as we’re able to make sure that the safety and security of people are protected.”\n",
      "\n",
      "Mohan said the internal processes and systems inside Facebook are designed to ensure that any opinion and preference of an employee or a group of employees is “quite separate from the company and the company’s objective enforcement of its own policies.”\n",
      "\n",
      "He said individuals can offer input on decisions, but nobody — including Ankhi Das — can unilaterally influence the decision Facebook takes on content enforcement.\n",
      "\n",
      "“We do allow free expression inside the company as well. We don’t have any constraints on people expressing their point of view, but we see that separate from the enforcement of our content policy. […] The content policy itself, in the context of India, is a team that stands separate from the public policy team that is led by Ankhi,” he added.\n",
      "\n",
      "On India and monetization\n",
      "\n",
      "Even as Facebook has amassed hundreds of millions of users in India, the world’s second largest market contributes little to its bottom line. So why does Facebook care so much about the country?\n",
      "\n",
      "“India is in the middle of a very exciting economic and social transformation where digital has a massive role to play. In just the last four years, more than 500 million users have come online. The pace of this transformation probably has no parallel in either human history or even in the digital transformation happening in countries around the world,” he said.\n",
      "\n",
      "“For a company like ours, if you look at the family of apps across WhatsApp and Instagram, we believe we have a useful role to play in fueling this transformation,” he said.\n",
      "\n",
      "Even as Facebook does not generate a lot of revenue from India, Mohan said the company has established itself as one of the most trusted platforms for marketers. “They look to us as a material partner in their marketing agenda,” he said.\n",
      "\n",
      "He said the company is hopeful that advertising as a GDP will go up in India. “Therefore ad-revenue will become substantial over time,” he said.\n",
      "\n",
      "For Facebook, India is also crucial because it allows the company to build some unique products that solve issues for India but could be replicated in other markets. The company is currently testing an integration of WhatsApp, which currently does not have a business model despite having over 2 billion users, with new Indian e-commerce JioMart, to allow users to easily track their orders.\n",
      "\n",
      "“We think there is opportunity to build India-first models, experiment at scale, and in a world where we succeed, we see huge opportunity in taking some of these models global,” he said.\n",
      "\n",
      "Facebook as a VC\n",
      "\n",
      "Facebook does not usually invest in startups. But in India, the company has invested in social-commerce firm Meesho, online learning platform Unacademy — it even participated in its follow-up round — and it wrote a $5.7 billion check to Jio Platforms earlier this year. So why is Facebook taking this investment route in India?\n",
      "\n",
      "“We wanted to create a program for taking minority investments in early-stage startups to figure out how we could be helpful to startup founders and the ecosystem as a whole. The starting point was backing teams that were building models that in some ways were unique to India and could go global. Since we made an investment in Meesho, they have made a strong thrust in Indonesia. These are the kind of companies where we feel we can add value as well as we can learn from these startups,” he said.\n",
      "\n",
      "The partnership with Jio Platforms follows a different rationale. “The transformation we talked about in India in the last few years, Jio triggered it,” he said. Other than that, Facebook is exploring ways to work with Jio, such as with its partnership with Jio’s venture JioMart. “It can really fuel the small and medium business that is good for the Indian economy,” he said.\n",
      "\n",
      "Mohan said the company continues to explore more opportunities in Indian startups, especially with those where the teams think Facebook can add value, but he said there is no mandate of any kind that Facebook has to invest in, say dozens of startups in three to four years. “It’s not a volume play,” he said.\n",
      "\n",
      "But would these firms, including Reliance Industries, which operates Jio Platforms and Reliance Retail, will receive any special access on Facebook’s services. What if Amazon, BigBasket, Grofers, or Flipkart want to integrate with WhatsApp, too? Mohan said Facebook platform is open for every firm and everyone will receive the same level of access and opportunities.\n",
      "\n",
      "In the interview, Mohan, who ran the Disney-run Hotstar on-demand streaming service in India, also talked about the growing usage of video in India, the state of WhatsApp Pay’s rollout in the country, what Facebook thinks of India’s ban on Chinese apps, and much more. You can watch the full interview below.\n",
      "\n",
      "****** KEYWORDS ******\n",
      "\n",
      " ['opportunities', 'whatsapp', 'controversy', 'role', 'political', 'techcrunch', 'monetization', 'addresses', 'country', 'transformation', 'india', 'users', 'startups', 'jio', 'investments', 'facebook', 'company', 'startup']\n"
     ]
    },
    {
     "name": "stdout",
     "output_type": "stream",
     "text": [
      "Keywords: controversy, facebook, partnership, politics\n",
      "****** TEXT ******\n",
      "\n",
      " As TikTok’s fate in the U.S. remains murky, YouTube today announced the launch of a new short-form video experience it’s calling YouTube Shorts. The feature will allow users, initially in India, to upload 15-second or less short-form videos using a new set of creator tools, including a multi-segment camera, similar to TikTok, speed controls and a timer and a countdown feature. The videos can also be set to music, thanks to YouTube’s access to a large library of songs that it says will continue to grow over time.\n",
      "\n",
      "The multi-segment camera lets users string together multiple video clips into one short clip. The other controls enable YouTube creators to be more creative than if they simply pressed a “record” button.\n",
      "\n",
      "These are tools common to the TikTok video recording experience today and are the same features that Instagram recently cloned for its own TikTok rival, known as Reels.\n",
      "\n",
      "The feature will be prominently highlighted within the YouTube app on Android, and will expand to iOS in time.\n",
      "\n",
      "YouTube says India — notably, a large market where Chinese-owned TikTok is already banned — will be the first to gain access to YouTube Shorts at launch. However, the plan is to bring the feature to more markets in time. YouTube didn’t offer a timeline for when that would happen, though.\n",
      "\n",
      "Related to this, YouTube will introduce a new watch experience that lets you swipe through YouTube Shorts vertically — also, just like TikTok. The company had already added a new row on the YouTube homepage for watching short videos, and now the new watch experience will make it easier to watch that content and discover new short videos, too, YouTube says.\n",
      "\n",
      "YouTube earlier this summer announced its plans to begin testing a short-form video feature, but hadn’t offered many details, or even the feature’s name. At the time, YouTube had said that the test would involve recording 15-second videos on both iOS and Android, but only among a small group of creators.\n",
      "\n",
      "The company clarified to TechCrunch that this earlier experiment had been part of the Shorts product, and it had been experimenting with a multi-segment camera globally. But new today are the options to record with music, speed controls and a timer and countdown.\n",
      "\n",
      "In addition, YouTube Shorts will feature hundreds of thousands of tracks from partners like T-Series and Believe Digital. It’s also working with music artists, labels and publishers to make more of their content available in YouTube Shorts’ catalog.\n",
      "\n",
      "The news of the larger launch of YouTube Shorts comes as the M&A deadline for TikTok’s U.S. operations is coming to an end. Microsoft has now announced it won’t be the buyer, and reports claim Oracle is winning the bid, but its deal isn’t structured as an outright sale.\n",
      "\n",
      "TikTok’s potential exit had already seen many rival social platforms looking to woo TikTok users to their own app. Instagram, Snapchat and now YouTube are among those looking to gain an advantage by leveraging the instability around TikTok to launch their own short-form video products. More direct TikTok competitors, like Triller, Dubsmash, Byte and others, have picked up some new customers, as well.\n",
      "\n",
      "YouTube says the new feature is rolling out in India over the next few days. It characterizes YouTube Shorts as a test it aims to learn from, with the goal of expanding access and improving the product over time.\n",
      "\n",
      "If you have access to the Shorts camera, you can start creating videos by hitting the plus (+) icon (or soon, the video camera icon on iOS), then selecting “video.” If you see “create a short video” as an option, then you have the Shorts camera. For Android users in India, however, you’ll see the “create” icon has been moved to the bottom of the navigation bar for easier access, YouTube says.\n",
      "\n",
      "Those without the feature can somewhat participate by tagging their shorter videos (under 60 seconds) as #Shorts in the title or description. These will be tested on the new YouTube home page, along with other short vertical videos.\n",
      "\n",
      "****** KEYWORDS ******\n",
      "\n",
      " ['rival', 'video', 'feature', 'access', 'youtube', 'shorts', 'techcrunch', 'tiktok', 'short', 'india', 'initially', 'users', 'camera', 'videos', 'launches']\n",
      "Keywords: tiktok, new feature, short video, launch\n",
      "****** TEXT ******\n",
      "\n",
      " Even as more than 150 million people are using digital payment apps each month in India, only about 20 million of them invest in mutual funds and stocks. A startup that is attempting to change that by courting millennials has just received a big backing.\n",
      "\n",
      "Bangalore-headquartered Groww said on Thursday it had raised $30 million in its Series C financing round. YC Continuity, the growth-stage investment fund of Y Combinator, led the round, while existing investors Sequoia India, Ribbit Capital and Propel Ventures participated in it. The new round brings three-year-old startup Groww’s total raise-to-date to $59 million.\n",
      "\n",
      "Groww allows users to invest in mutual funds, including systematic investment planning (SIP) and equity-linked savings. The app maintains a very simplified user interface to make it easier for its largely millennial customer base to comprehend the investment world. It offers every fund that is currently available in India.\n",
      "\n",
      "In recent months, the startup has expanded its offerings to allow users to buy stocks of Indian firms and digital gold, said Lalit Keshre, co-founder and chief executive of Groww, in an interview with TechCrunch. Keshre and other three co-founders of Groww worked at Flipkart before launching their own startup.\n",
      "\n",
      "Groww has amassed over 8 million registered users for its mutual fund offering, and over 200,000 users have bought stocks from the platform, said Keshre. The new fund will allow Groww to further expand its reach in the country and also introduce new products, he said.\n",
      "\n",
      "One of those products is the ability to allow users to buy stocks of U.S.-listed firms and derivatives, he said. The startup is already testing this with select users, he said.\n",
      "\n",
      "“We believe Groww is building the largest retail brokerage in India. At YC, we have known the founders since the company was just an idea and they are some of the best product people you will meet anywhere in the world. We are grateful to be partners with Groww as they build one of the largest retail financial platforms in the world,” said Anu Hariharan, partner at YC Continuity, in a statement.\n",
      "\n",
      "More than 60% of Groww users come from smaller cities and towns of India and 60% of these have never made such investments before, said Keshre. The startup is conducting workshops in several small cities to educate people about the investment world. And that’s where the growth opportunities lie.\n",
      "\n",
      "“India is seeing increased participation of retail investors in financial markets — with 2 million new stock market investors added in the last quarter alone,” said Ashish Agrawal, principal at Sequoia Capital India, in a statement.\n",
      "\n",
      "Scores of startups such as Zerodha, ETMoney, INDWealth and Cube Wealth have emerged and expanded in India in recent years to offer wealth management platforms to the country’s growing internet population. Many established financial firms such as Paytm have also expanded their offerings to include investments in mutual funds. Amazon, which has aggressively expanded its financial services catalog in India in recent months, also sells digital gold in the country.\n",
      "\n",
      "****** KEYWORDS ******\n",
      "\n",
      " ['world', 'yc', 'continuity', 'stocks', 'groww', 'techcrunch', 'million', 'raises', 'india', 'millennials', 'led', 'app', 'users', 'investment', 'mutual', 'keshre', 'startup']\n",
      "Keywords: stocks, india, startup, financial markets\n",
      "****** TEXT ******\n",
      "\n",
      " As part of the continuing global rollout of LanzaTech’s technology to capture carbon dioxide emissions and turn those emissions into fuel and chemicals, the company is rolling out a new small-scale waste biomass gasifier in India.\n",
      "\n",
      "The new gasifier, which was announced Tuesday on TechCrunch Disrupt’s virtual stage, will be hosted at Mangalore Refinery and Petrochemical, one of India’s largest refiners. The LanzaTech gasifier, which will be built in partnership with Indian project development firm Ankur Scientific, will use waste to make ethanol and chemicals rather than power.\n",
      "\n",
      "While most of the industry uses large-scale, expensive oxygen-blown gasifiers to make liquids, the LanzaTech air-blown technology is much cheaper and easier to operate and can still produce bacteria at a scale that produces a meaningful amount of ethanol.\n",
      "\n",
      "Contamination also isn’t an issue with the gas feedstock for LanzaTech’s bacteria, according to LanzaTech CEO Jennifer Holmgren . The new process can produce biochar that ends up replacing fertilizer in soil and thereby reducing nitrogen oxide emissions, which are another greenhouse gas contributing to global climate change.\n",
      "\n",
      "If the pilot project is successful and the gasifiers are rolled out at scale across India, it could mean an ability for the country to produce roughly 25 billion liters of ethanol per year and result in removing 60 million tons of carbon dioxide annually, according to LanzaTech’s estimates.\n",
      "\n",
      "“Overall something that people said makes no sense, may well make sense and may well result in benefits beyond just the immediate reuse of waste agri carbon and production of a fuel that results in keeping some petroleum in the ground,” according to a statement from Holmgren. “Holistic systems thinking is the way.”\n",
      "\n",
      "For Holmgren, the small pilot project in India is an example of how small-scale, low-cost distributed systems can compete with the big oil industry.\n",
      "\n",
      "“There are two paths to scale, bigger which is cheaper per unit produced, or massively replicating a small scale unit (numbering up versus scaling up),” Holmgren said. “Most people have always believed that numbering up is for toys and food, but I think it will also fit process technology. Certainly, larger fits petroleum, but it can’t fit biotechnology or biomass or waste gases which are distributed and difficult to move.”\n",
      "\n",
      "Decarbonization, Holmgren believes, will require a reimagining of traditional systems if humanity is to break the carbon cycle that’s now causing global climate catastrophes that can be observed in the Western United States right now.\n",
      "\n",
      "“We must not benchmark today’s innovation against the past; we must, instead, imagine and create a very different future, one where the production of energy, fuels and chemicals is based on distributed, rather than centralized principles,” said Holmgren. “Recent breakthroughs in miniaturization, automation, AI and 3D printing enable distributed production beyond anything that could have been previously imagined and of course, a simple gasifier will help that along.”\n",
      "\n",
      "****** KEYWORDS ******\n",
      "\n",
      " ['production', 'distributed', 'developing', 'scale', 'biomass', 'systems', 'technology', 'lanzatech', 'techcrunch', 'india', 'gasifier', 'carbon', 'project', 'holmgren', 'smallscale', 'ethanol', 'waste']\n"
     ]
    },
    {
     "name": "stdout",
     "output_type": "stream",
     "text": [
      "Keywords: carbon dioxide emissions, gasifier, decarbonization\n",
      "****** TEXT ******\n",
      "\n",
      " More than a third of small and medium-sized businesses on Facebook in India expect cash flow to be a challenge for them as they navigate the coronavirus pandemic in the next few months, according to a report by Organisation for Economic Co-operation and Development (OECD) and the World Bank.\n",
      "\n",
      "Facebook, which reaches nearly every internet user in India and which collaborated with OECD and World Bank on the report, wants to help. The social giant today announced a grant of $4.3 million for more than 3,000 small businesses across Delhi, Gurgaon, Mumbai, Hyderabad and Bangalore (Indian cities where the company has its offices).\n",
      "\n",
      "In an interview with TechCrunch, Ajit Mohan, head of Facebook India, said the grant includes both cash and ad credits, with cash constituting the larger share. These businesses don’t have to advertise on Facebook to be eligible for the grant, he said. Businesses can apply for the grant starting today.\n",
      "\n",
      "The India grant is part of the company’s $100 million global grant for small businesses that it announced in March.\n",
      "\n",
      "Additionally, Facebook and Instagram have also launched capabilities for businesses in India to sell gift cards. “During the pandemic, it’s been inspiring to see how people and businesses have come together on the Facebook family of apps to support their local communities,” said Mohan.\n",
      "\n",
      "These gift cards, which will be issued by startups Qwikcilver and PayU, are designed to help businesses get the immediate cash flow to stay afloat. Users can redeem these gift cards at these businesses later on.\n",
      "\n",
      "The announcement today comes as Facebook begins to engage deeply with small businesses in the country. The company invested $5.7 billion in Jio Platforms earlier this year and said it would work with the Indian giant to explore ways to serve the nation’s 60 million businesses.\n",
      "\n",
      "“The recovery of small businesses from the pandemic will be critical to the recovery of Indian economy, and we want to do everything we can to help. Today we’re building on our commitment by announcing the small business grant for India,” said Mohan.\n",
      "\n",
      "Scores of businesses in India already use Facebook to reach potential customers. WhiteHat Jr., an 18-month-old startup that teaches coding to kids, is one of the businesses that has used Facebook extensively in recent quarters. The startup was acquired by Indian decacorn Byju’s for $300 million last month.\n",
      "\n",
      "More on Facebook’s business in India tomorrow. Mohan will be joining us at the Disrupt 2020 conference.\n",
      "\n",
      "****** KEYWORDS ******\n",
      "\n",
      " ['businesses', 'pandemic', 'support', 'cash', 'gift', 'techcrunch', 'introduces', 'million', 'small', 'grant', 'india', 'cards', 'today', 'indian', 'facebook']\n",
      "Keywords: pandemic, small business, customers\n",
      "****** TEXT ******\n",
      "\n",
      " CashKaro, one of the leading cashback and coupon sites in India, will expand its range of services for e-commerce after raising $10 million in Series B funding, the New Delhi-based startup announced today. The round was led by Korea Investment Partners, with participation from returning investor Kalaari Capital.\n",
      "\n",
      "TechCrunch last covered CashKaro five years ago when it raised a $3.8 million Series A. The latest round brings the company’s total funding so far to $15 million.\n",
      "\n",
      "Over the past five years, the company has introduced new products, including a price comparison service, and EarnKaro, a social commerce cashback app that launched about 18 months ago. Part of the Series B will be used to expand EarnKaro, which has about one million registered users. It allows social commerce sellers, or people who use social media platforms and messaging apps like WhatsApp to sell items, make extra cash by creating affiliate links to major e-commerce sites like Amazon and Flipkart. The launch of EarnKaro also allowed CashKaro to reach into smaller cities and rural areas, where shoppers often prefer to order from people whose recommendations they trust (i.e. “micro-influencers”) instead of e-commerce sites.\n",
      "\n",
      "Founded in 2013 by husband-and-wife team Swati and Rohan Bhargava, CashKaro currently claims about five million users and has partnerships with more than 1,500 e-commerce sites, including some of the biggest players in India, like Amazon, Flipkart, Myntra and Ajio. The company monetizes by charging brands a commission for transactions made through CashKaro links. The commissions are also how CashKaro is able to give cash back to shoppers, which can be deposited into their bank accounts or redeemed as gift vouchers for Flipkart and Amazon. CashKaro’s founders say it currently processes more than one million monthly transactions.\n",
      "\n",
      "CashKaro competes for the attention of online shoppers with a bevy of other coupon and cashback services in India. Some of its rivals include CouponDunia, GrabOn and GoPaisa.\n",
      "\n",
      "“We are the only VC-funded cashback site in India. While capital itself is not the differentiator, it is what we have been able to do with that capital which sets us apart,” Bhargava told TechCrunch, adding that CashKaro’s cashback rates are among the highest in the market.\n",
      "\n",
      "“Given that we now drive close to a half a billion dollars in GMV through CashKaro and EarnKaro to our partner sites, we are able to get higher commission rates from partner sites, which in turn helps us pass the most benefit to our members.”\n",
      "\n",
      "While COVID-19 has affected e-commerce businesses around the world because of sudden changes in consumer habits, the situation in India was particularly complicated in April and May because there were containment zones throughout the country, and in some zones, deliveries of non-essential items were not allowed until May.\n",
      "\n",
      "“COVID-19 caught us by surprise and Indian e-commerce was neither prepared to handle the surge in demand, nor did we expect so many supply side and delivery issues,” said Bhargava. “Given CashKaro works with all e-commerce sites, we saw these trends as well.”\n",
      "\n",
      "Since June, however, sales have started to recover and is seeing growth as people continue to stay home and shop online.\n",
      "\n",
      "“Our business is growing month on month and, in fact, the pandemic spurred our expansion into new digital categories, like education, gaming and online video streaming, which have seen exponential growth,” Bhargava added. Sales of electronics, home and kitchen items, personal care and beauty have also increased over the past few months.\n",
      "\n",
      "At the same time, the economic impact of the pandemic has prompted more people to seek cashback offers and other money-saving deals.\n",
      "\n",
      "“We are seeing that saving consciousness has gone up amongst online shoppers and people are finding services like CashKaro and EarnKaro more useful than ever before,” Bhargava said. “On the client side, our partners, such as Amazon, Myntra and Ajio, are also working with us more closely because they are seeing that our performance marketing model is the perfect way to scale while keeping profitability in mind amidst these tough times.”\n",
      "\n",
      "The new round of capital will be used for CashKaro’s goal of doubling its registered member base over the next 12 months from the current 5 million. Bhargava told TechCrunch that it will expand cashback offers into categories like credit cards and education, and launch new marketing campaigns focused around events like upcoming festivals and the Indian Premier League season, which starts this weekend.\n",
      "\n",
      "The company is also “chasing aggressive growth for EarnKaro and reaching out to more influencers, resellers, housewives and students who are our primary target market for this product,” she added. Finally, part of the Series B will be used for hiring, including leadership positions.\n",
      "\n",
      "For Korea Investment Partners, one of the largest South Korean venture capital firms, CashKaro represents a chance to tap into India’s fast-growing e-commerce market. In a statement, managing partner Hudson Kyung-sik Ho said, “We believe this is a highly scalable opportunity and both Swati and Rohan have set it on a truly exciting growth trajectory. CashKaro and EarnKaro together have shown exceptional unit metrics and we are really excited to be a part of India’s affiliate story.”\n",
      "\n",
      "****** KEYWORDS ******\n",
      "\n",
      " ['site', 'korea', 'shoppers', 'gets', 'series', 'earnkaro', 'techcrunch', 'million', 'partners', 'ecommerce', 'india', 'led', 'investment', 'sites', 'cashback', 'indian', 'cashkaro', 'bhargava']\n"
     ]
    },
    {
     "name": "stdout",
     "output_type": "stream",
     "text": [
      "Keywords: cashback, e-commerce, investment, korea\n",
      "****** TEXT ******\n",
      "\n",
      " Airmeet, a startup that offers a platform to host virtual events, said on Tuesday it has raised $12 million in a new financing round as the Bangalore-headquartered firm demonstrates accelerating growth in its user base.\n",
      "\n",
      "Sequoia Capital India led the $12 million Series A financing round in one-year-old Airmeet. Redpoint Ventures and existing investors Accel India, Venture Highway, Global Founders Capital (GFC) and Gokul Rajaram (Caviar Lead at DoorDash) also participated in the round.\n",
      "\n",
      "The new round values Airmeet at about $50 million, more than double of what it was valued in March, when it raised $3 million, according to a person familiar with the matter.\n",
      "\n",
      "Airmeet allows users and businesses to host interactive virtual events. Its platform intuitively replicates aspects of a physical event, offering a backstage, grouping people to a table, allowing participants to network with each other and even enabling event organizers to work with sponsors. Airmeet, currently in public beta, is available through a freemium model where it charges businesses based on their usage.\n",
      "\n",
      "In an interview with TechCrunch, Lalit Mangal, co-founder of Airmeet, said the usage on the platform has grown 2,000% over the last quarter without any investment in advertisement, he said.\n",
      "\n",
      "In recent months, Airmeet has worked to expand the use cases of the platform. In addition to hosting large conferences, Airmeet is now also being used for professional meetups at large film festivals, he said. Recently it held university resource fairs and technical industry summits.\n",
      "\n",
      "“Covid-19 has accelerated a permanent behavioral shift across many industries. With digitization of largely traditional spaces leapfrogging by years, the $800+ billion global offline events space is up for grabs. There is massive potential for players who drive the industry’s transition towards online-events,” said Abhishek Mohan, VP at Sequoia Capital India, in a statement.\n",
      "\n",
      "Airmeet is built on top of WebRTC, a standard that most modern browsers follow. This has enabled Airmeet to be fully accessible through Chrome and Firefox. All the sessions are also end-to-end encrypted, said Mangal. It does not have a mobile app. Mangal said people tend to use their laptop or desktop or their iPads for professional events. (Users can consume a session through their mobile browser, however.)\n",
      "\n",
      "The startup, which is in the same space as Hopin and Andreessen Horowitz-backed Run The World, will use the fresh capital to add new features to Airmeet and also scale globally, said Mangal.\n",
      "\n",
      "“Airmeet’s mission is to create a global platform to enable millions of community managers and event organizers across the world to engage with and expand their audience. And with Lalit and team’s focus, execution and innovative thinking, they are strongly placed to achieve their goal,” said Mohan.\n",
      "\n",
      "****** KEYWORDS ******\n",
      "\n",
      " ['platform', 'global', 'virtual', 'capital', 'techcrunch', 'events', 'million', 'round', 'raises', 'india', 'mangal', 'event', 'airmeet', '12m']\n",
      "Keywords: virtual events, pandemic, digitalization, startup, global platform\n",
      "****** TEXT ******\n",
      "\n",
      " Since India enforced a lockdown across the country in late March, shutting schools and other public places, Bangalore-headquartered startup Byju’s has emerged as one of the quintessential platforms for school-going students in the world’s second largest internet market.\n",
      "\n",
      "It took the startup about four and a half years to amass 40 million students. Since the lockdown, its user base has ballooned to 65 million, its co-founder and chief executive Byju Raveendran said at the Disrupt 2020 conference Tuesday.\n",
      "\n",
      "Students say they were attracted to Byju’s platform because of the way it taught them subjects. Byju, who is a teacher himself, found intuitive ways like using real-life objects such as a pizza to teach complex math problems.\n",
      "\n",
      "His startup is valued at nearly $11 billion as of last week (which makes it India’s second most valuable startup), and has presence across several international markets. Late last year, Byju’s announced it has also turned profitable. It’s not everyday that we see an Indian startup with any of these three characteristics — let alone all three in one.\n",
      "\n",
      "In a wide-ranging interview at Disrupt 2020, Raveendran shared the journey of Byju’s, which started as an offline platform that taught students at classrooms, auditoriums and stadiums; the startup’s plans for further expansion in international markets; his views on merger and acquisition opportunities; and how the coronavirus pandemic has affected his business and the education landscape at large in India, among a number of other things.\n",
      "\n",
      "“Unfortunately it took a pandemic for most stakeholders to try out digital learning. Parents are now accepting the online segment more than before. This sector is clearly at an inflexion point,” said Raveendran.\n",
      "\n",
      "To make online learning more accessible to students, Byju’s made all of its offerings free during the pandemic. But the platform’s paying subscribers, now at more than 4 million, remains on a steady path of growth, he said.\n",
      "\n",
      "The startup expects to generate more than $1 billion in revenue this year from India itself and take home profits between $150 million to $180 million, he said.\n",
      "\n",
      "“I would still call it a relative success. What we consider as the target audience, we have less than 4% of penetration in that segment,” he said. “More than one-third of school-going students don’t have a smartphone. There’s still a lot of catch up to do.”\n",
      "\n",
      "Another phenomenon that the pandemic has kickstarted in India is some consolidation in the edtech startup space. Byju’s itself acquired WhiteHat Jr., an 18-month-old startup that teaches coding skills to students, for $300 million.\n",
      "\n",
      "TechCrunch has reported that the startup is engaging with several more startups, including Indian firm Doubtnut, which through its app allows students to take a picture of a math problem and delivers a step-by-step solution.\n",
      "\n",
      "Here’s what Raveendran had to say about that: “The long-term potential of the sector is at an all-time high. […] We are looking for companies that can add strong product components to either our existing user base or potential new customers in new markets, or companies that can give us some kind of distribution so that we get a head start to launch in a new market — especially English speaking markets.”\n",
      "\n",
      "“You will hear of a few more acquisitions from us. We are exploring some of them very seriously,” he added. The future acquisitions will again be all-cash deals, Raveendran said, as he “values equity more than others.”\n",
      "\n",
      "On IPO, fundraise and international expansion\n",
      "\n",
      "Byju’s isn’t looking to go public for at least two years, the chief executive said. “We have strong business fundamentals; we have been able to find the right balance between high-growth and sustainable growth and created a very profitable model in such a short period of time. But we have not seriously thought about the public listing,” he added.\n",
      "\n",
      "And it appears that investors in Byju’s are also not in a hurry. “We don’t need to do public listing to give exit to some of the early investors because the business itself will generate enough cash. A good number of them have already taken the money they invested out in the last few rounds,” he said.\n",
      "\n",
      "Byju’s has raised more than $700 million this year. We asked Raveendran why is the startup raising capital. “We have been very capital-efficient in terms of how we have used the primary capital we have raised. In the first five years, we have utilized less than $350 million of the primary capital — which shows how we have efficiently scaled the model,” he said.\n",
      "\n",
      "“Most of the recent fundraising is to finance inorganic growth, like full-cash acquisitions. We are utilizing it to add some strong business models. We never raised money because we needed it. It was always to add the right partner. In recent times, we have added long-term, patient investors,” he said. Byju’s is likely not done with its fundraising spree yet, as the startup is currently engaging with at least two more investment firms.\n",
      "\n",
      "For expansion in international markets, Raveendran said it plans to launch a digital learning app aimed at kids in several English-speaking markets. He said WhiteHat Jr., will introduce math subjects to its offering to serve customers in several markets, including Australia, New Zealand.\n",
      "\n",
      "We also talked about what he thinks of other giant startups in India that are not profitable today, the kind of message that sends to international investors and whether there is room for any new player in the education market in India, and much more. You can watch the full interview below.\n",
      "\n",
      "****** KEYWORDS ******\n",
      "\n",
      " ['pandemic', 'talks', 'expansion', 'coronavirus', 'future', 'ceo', 'students', 'raveendran', 'public', 'markets', 'techcrunch', 'million', 'byjus', 'india', 'international', 'indian', 'startup', 'decacorn']\n"
     ]
    },
    {
     "name": "stdout",
     "output_type": "stream",
     "text": [
      "Keywords: pandemic, lockdown, students, international markets, business models\n",
      "****** TEXT ******\n",
      "\n",
      " Byju’s has raised $500 million in a new financing round that values the Indian online learning platform at $10.8 billion, a source familiar with the matter told TechCrunch.\n",
      "\n",
      "The round was led by Menlo Park-headquartered PE firm Silver Lake, and existing investors Tiger Global, General Atlantic and Owl Ventures have also participated in it, India’s second most valuable startup Byju’s said in a statement, but declined to reveal the size of the round and its valuation.\n",
      "\n",
      "“We are excited to welcome a strong partner like Silver Lake to the BYJU’S family,” said Byju Raveendran, co-founder and CEO of the eponymous startup in a statement. Raveendran will be appearing at Disrupt 2020 next week.\n",
      "\n",
      "“We are fortunate to be in a sector of positive relevance during this crisis. This has brought online learning to the forefront and is helping parents, teachers and students experience and understand its value. Our classrooms are changing possibly for the first time in 100 years and I’m really excited about the opportunities that we have to redefine the future of learning,” he added.\n",
      "\n",
      "Byju’s prepares students pursuing undergraduate and graduate-level courses, and in recent years it has also expanded its catalog to serve all school-going students. Tutors on Byju’s app tackle complex subjects using real-life objects such as pizza and cake.\n",
      "\n",
      "The growing valuation of Byju’s comes as education startups report massive growth in their usage. Unacademy, a Facebook-backed edtech startup, nearly tripled its valuation in a span of months with its new $150 million fundraise last week. Byju’s, which was valued at $10.5 billion in June when it raised capital from Mary Meeker’s Bond (according to TechCrunch), was valued at about $5.75 billion in July last year.\n",
      "\n",
      "As the coronavirus outbreak began to spread in India earlier this year, New Delhi enforced a nationwide lockdown that saw schools close across the nation. This has led many parents to explore digital learning services alternatives for their kids.\n",
      "\n",
      "Even as most Indians tend not to pay for online services — just ask Facebook, which has amassed over 400 million users in India and makes little in the country — the education category has become an outlier. Indian families continue to spend heavily on their children’s education in hopes of paving the way for a better future.\n",
      "\n",
      "Since the lockdown, Byju’s has added 20 million new students on its platform. Today, the app has over 64 million registered students and 4.2 million annual paid subscriptions. The startup said it has also doubled its revenue.\n",
      "\n",
      "“We are delighted to lead this investment and partner with Byju and his impressive team of education technology pioneers in their mission to help children in India and around the world achieve their true potential,” said Greg Mondre, Co-CEO of Silver Lake in a statement. Silver Lake also invested about $1.35 billion in India’s Jio Platforms earlier this year.\n",
      "\n",
      "“We look forward to working with them as BYJU’S builds on and accelerates its compelling growth trajectory by forging new partnerships and continuing to cultivate a comprehensive ecosystem of innovative educational offerings.”\n",
      "\n",
      "There has also been some consolidation. Byju’s acquired 18-month-old WhiteHat Jr., which teaches coding to kids, for $300 million. In an interview with TechCrunch, Raveendran said the startup is raising capital in part to finance any acquisitions.\n",
      "\n",
      "****** KEYWORDS ******\n",
      "\n",
      " ['learning', 'students', 'statement', 'lake', 'education', 'billion', 'online', 'million', 'silver', 'techcrunch', 'round', 'byjus', 'leads', 'investment', 'indian', 'startup']\n",
      "Keywords: online learning platform, education, startup, pandemic \n"
     ]
    }
   ],
   "source": [
    "my_keywords = []\n",
    "for ind, text in news_dataset.iterrows():\n",
    "    print('****** TEXT ******')\n",
    "    print('\\n', text['text'])\n",
    "    print('\\n****** KEYWORDS ******')\n",
    "    print('\\n', text['keywords'])\n",
    "    keywords = input('Keywords: ').split(', ')\n",
    "    my_keywords.append(keywords)"
   ]
  },
  {
   "cell_type": "code",
   "execution_count": 47,
   "metadata": {},
   "outputs": [
    {
     "name": "stderr",
     "output_type": "stream",
     "text": [
      "<ipython-input-47-f83edf3f42ef>:1: SettingWithCopyWarning: \n",
      "A value is trying to be set on a copy of a slice from a DataFrame.\n",
      "Try using .loc[row_indexer,col_indexer] = value instead\n",
      "\n",
      "See the caveats in the documentation: https://pandas.pydata.org/pandas-docs/stable/user_guide/indexing.html#returning-a-view-versus-a-copy\n",
      "  news_dataset['my_keywords'] = my_keywords\n"
     ]
    }
   ],
   "source": [
    "news_dataset['my_keywords'] = my_keywords"
   ]
  },
  {
   "cell_type": "code",
   "execution_count": 59,
   "metadata": {},
   "outputs": [],
   "source": [
    "given_keywords = news_dataset.keywords.to_list()\n",
    "new_keywords = news_dataset.my_keywords.to_list()"
   ]
  },
  {
   "cell_type": "markdown",
   "metadata": {},
   "source": [
    "В качестве эталона я решила объединить данные изначально ключевые слова с размеченными мною."
   ]
  },
  {
   "cell_type": "code",
   "execution_count": 62,
   "metadata": {},
   "outputs": [],
   "source": [
    "gold_keywords = []\n",
    "for g, m in zip(given_keywords, new_keywords):\n",
    "    union = list(set(g) | set(m))\n",
    "    gold_keywords.append(union)"
   ]
  },
  {
   "cell_type": "code",
   "execution_count": 63,
   "metadata": {},
   "outputs": [
    {
     "name": "stderr",
     "output_type": "stream",
     "text": [
      "<ipython-input-63-b0cc52109e27>:1: SettingWithCopyWarning: \n",
      "A value is trying to be set on a copy of a slice from a DataFrame.\n",
      "Try using .loc[row_indexer,col_indexer] = value instead\n",
      "\n",
      "See the caveats in the documentation: https://pandas.pydata.org/pandas-docs/stable/user_guide/indexing.html#returning-a-view-versus-a-copy\n",
      "  news_dataset['gold_keywords'] = gold_keywords\n"
     ]
    }
   ],
   "source": [
    "news_dataset['gold_keywords'] = gold_keywords"
   ]
  },
  {
   "cell_type": "markdown",
   "metadata": {},
   "source": [
    "### Автоматические извлечение ключевых слов"
   ]
  },
  {
   "cell_type": "code",
   "execution_count": 86,
   "metadata": {},
   "outputs": [],
   "source": [
    "nlp = spacy.load('en_core_web_sm')\n",
    "stop_words = stopwords.words('english')"
   ]
  },
  {
   "cell_type": "code",
   "execution_count": 75,
   "metadata": {},
   "outputs": [],
   "source": [
    "def preprocess(text, nlp):\n",
    "    tokens = nlp(text)\n",
    "    words = ' '.join([w.lemma_ for w in tokens if w.lemma_.isalpha()])\n",
    "    return words"
   ]
  },
  {
   "cell_type": "markdown",
   "metadata": {},
   "source": [
    "Лемматизирую сначала только тексты, так потом удобнее будет работать."
   ]
  },
  {
   "cell_type": "code",
   "execution_count": 79,
   "metadata": {},
   "outputs": [
    {
     "name": "stderr",
     "output_type": "stream",
     "text": [
      "<ipython-input-79-58cd47963b9a>:1: SettingWithCopyWarning: \n",
      "A value is trying to be set on a copy of a slice from a DataFrame.\n",
      "Try using .loc[row_indexer,col_indexer] = value instead\n",
      "\n",
      "See the caveats in the documentation: https://pandas.pydata.org/pandas-docs/stable/user_guide/indexing.html#returning-a-view-versus-a-copy\n",
      "  news_dataset['texts_lemmatized'] = news_dataset.text.apply(lambda x: preprocess(x, nlp))\n"
     ]
    }
   ],
   "source": [
    "news_dataset['texts_lemmatized'] = news_dataset.text.apply(lambda x: preprocess(x, nlp))"
   ]
  },
  {
   "cell_type": "markdown",
   "metadata": {},
   "source": [
    "#### Rake"
   ]
  },
  {
   "cell_type": "code",
   "execution_count": 87,
   "metadata": {},
   "outputs": [],
   "source": [
    "rake = RAKE.Rake(stop_words)"
   ]
  },
  {
   "cell_type": "code",
   "execution_count": 175,
   "metadata": {},
   "outputs": [],
   "source": [
    "def keywords_rake(text, rake):\n",
    "    rake_output = rake.run(text, \n",
    "                           maxWords=3, minFrequency=2)\n",
    "    rake_output = [k[0] for k in rake_output]\n",
    "    return ', '.join(rake_output)"
   ]
  },
  {
   "cell_type": "markdown",
   "metadata": {},
   "source": [
    "Как мне показалось, Rake лучше справляется на обычных текстах. "
   ]
  },
  {
   "cell_type": "code",
   "execution_count": 176,
   "metadata": {},
   "outputs": [
    {
     "name": "stderr",
     "output_type": "stream",
     "text": [
      "<ipython-input-176-a299243e45f6>:1: SettingWithCopyWarning: \n",
      "A value is trying to be set on a copy of a slice from a DataFrame.\n",
      "Try using .loc[row_indexer,col_indexer] = value instead\n",
      "\n",
      "See the caveats in the documentation: https://pandas.pydata.org/pandas-docs/stable/user_guide/indexing.html#returning-a-view-versus-a-copy\n",
      "  news_dataset['rake_raw'] = news_dataset.apply(lambda x: keywords_rake(x['text'], rake), axis=1)\n",
      "<ipython-input-176-a299243e45f6>:2: SettingWithCopyWarning: \n",
      "A value is trying to be set on a copy of a slice from a DataFrame.\n",
      "Try using .loc[row_indexer,col_indexer] = value instead\n",
      "\n",
      "See the caveats in the documentation: https://pandas.pydata.org/pandas-docs/stable/user_guide/indexing.html#returning-a-view-versus-a-copy\n",
      "  news_dataset['rake_lem'] = news_dataset.apply(lambda x: keywords_rake(x['texts_lemmatized'], rake), axis=1)\n"
     ]
    }
   ],
   "source": [
    "news_dataset['rake_raw'] = news_dataset.apply(lambda x: keywords_rake(x['text'], rake), axis=1)\n",
    "news_dataset['rake_lem'] = news_dataset.apply(lambda x: keywords_rake(x['texts_lemmatized'], rake), axis=1)                                              "
   ]
  },
  {
   "cell_type": "code",
   "execution_count": 96,
   "metadata": {},
   "outputs": [
    {
     "data": {
      "text/plain": [
       "0    previous brand names, largest telecom operator...\n",
       "1    content policy, make sure, add value, mohan sa...\n",
       "2    new watch experience, shorts camera, youtube s...\n",
       "3    mutual funds, investment world, allow users, r...\n",
       "4    scale, distributed, lanzatech, holmgren, india...\n",
       "5    gift cards, world bank, small businesses, ” sa...\n",
       "6    e-commerce sites, korea investment partners, s...\n",
       "7    said mangal, airmeet, said, use, platform, sta...\n",
       "8    school-going students, international markets, ...\n",
       "9    round, techcrunch, year, valuation, india, byj...\n",
       "Name: rake_raw, dtype: object"
      ]
     },
     "execution_count": 96,
     "metadata": {},
     "output_type": "execute_result"
    }
   ],
   "source": [
    "news_dataset['rake_raw']"
   ]
  },
  {
   "cell_type": "code",
   "execution_count": 95,
   "metadata": {},
   "outputs": [
    {
     "data": {
      "text/plain": [
       "0    large telecom operator, million subscriber, in...\n",
       "1    million internet user, content policy, add val...\n",
       "2    new watch experience, shorts camera, time yout...\n",
       "3    allow user, buy stock, groww, india, startup, ...\n",
       "4      india, result, fuel, chemical, roll, production\n",
       "5    gift card, small business, facebook, india, bu...\n",
       "6    series b, partner site, cashkaro, month, compa...\n",
       "7    airmeet, use, platform, startup, work, usage, ...\n",
       "8    school go student, primary capital, byju, star...\n",
       "9    raise capital, round, lead, byju, value, india...\n",
       "Name: rake_lem, dtype: object"
      ]
     },
     "execution_count": 95,
     "metadata": {},
     "output_type": "execute_result"
    }
   ],
   "source": [
    "news_dataset['rake_lem']"
   ]
  },
  {
   "cell_type": "markdown",
   "metadata": {},
   "source": [
    "#### TextRank"
   ]
  },
  {
   "cell_type": "markdown",
   "metadata": {},
   "source": [
    "TextRank просто ужасно справляется на нелемматизированных текстах (выделяет абсолютно все формы одного слова), поэтому после проверки я удалила результаты его работы из датасета и оставила только один вариант."
   ]
  },
  {
   "cell_type": "code",
   "execution_count": 178,
   "metadata": {},
   "outputs": [
    {
     "name": "stderr",
     "output_type": "stream",
     "text": [
      "<ipython-input-178-e54ae0a73e63>:1: SettingWithCopyWarning: \n",
      "A value is trying to be set on a copy of a slice from a DataFrame.\n",
      "Try using .loc[row_indexer,col_indexer] = value instead\n",
      "\n",
      "See the caveats in the documentation: https://pandas.pydata.org/pandas-docs/stable/user_guide/indexing.html#returning-a-view-versus-a-copy\n",
      "  news_dataset['textrank'] = news_dataset.texts_lemmatized.apply(lambda x:\n"
     ]
    }
   ],
   "source": [
    "news_dataset['textrank'] = news_dataset.texts_lemmatized.apply(lambda x:\n",
    "                                                  set(textrank(x, summarize_by=None).split('\\n')))"
   ]
  },
  {
   "cell_type": "markdown",
   "metadata": {},
   "source": [
    "#### Tf–Idf"
   ]
  },
  {
   "cell_type": "code",
   "execution_count": 209,
   "metadata": {},
   "outputs": [],
   "source": [
    "vectorizer = TfidfVectorizer(stop_words=stop_words, ngram_range=(1, 3))\n",
    "tfidf = vectorizer.fit_transform(news_dataset.texts_lemmatized)\n",
    "features = np.array(vectorizer.get_feature_names())\n",
    "sorted_words = np.argsort(tfidf.toarray())"
   ]
  },
  {
   "cell_type": "code",
   "execution_count": 211,
   "metadata": {},
   "outputs": [],
   "source": [
    "tfidf_keywords = []\n",
    "\n",
    "for i in sorted_words:\n",
    "    idx = i[::-1]\n",
    "    tfidf_keywords.append(features[idx][:10].tolist())"
   ]
  },
  {
   "cell_type": "markdown",
   "metadata": {},
   "source": [
    "Аналогично прогоняю Tf–Idf на лемматизированных текстах."
   ]
  },
  {
   "cell_type": "code",
   "execution_count": 212,
   "metadata": {},
   "outputs": [
    {
     "name": "stderr",
     "output_type": "stream",
     "text": [
      "<ipython-input-212-66a0be778450>:1: SettingWithCopyWarning: \n",
      "A value is trying to be set on a copy of a slice from a DataFrame.\n",
      "Try using .loc[row_indexer,col_indexer] = value instead\n",
      "\n",
      "See the caveats in the documentation: https://pandas.pydata.org/pandas-docs/stable/user_guide/indexing.html#returning-a-view-versus-a-copy\n",
      "  news_dataset['tfidf_lem'] = tfidf_keywords\n"
     ]
    }
   ],
   "source": [
    "news_dataset['tfidf_lem'] = tfidf_keywords"
   ]
  },
  {
   "cell_type": "code",
   "execution_count": 121,
   "metadata": {},
   "outputs": [
    {
     "data": {
      "text/plain": [
       "0    [vodafone, idea, vodafone idea, telecom, birla...\n",
       "1    [facebook, india, say, company, whatsapp, moha...\n",
       "2    [youtube, video, tiktok, shorts, feature, shor...\n",
       "3    [groww, fund, stock, mutual, keshre, financial...\n",
       "4    [lanzatech, holmgren, produce, gasifier, scale...\n",
       "5    [business, facebook, grant, small business, sm...\n",
       "6    [cashkaro, commerce, site, earnkaro, cashback,...\n",
       "7    [airmeet, event, mangal, say, industry, host, ...\n",
       "8    [byju, startup, raveendran, student, market, s...\n",
       "9    [byju, silver, silver lake, lake, student, val...\n",
       "Name: tfidf_lem, dtype: object"
      ]
     },
     "execution_count": 121,
     "metadata": {},
     "output_type": "execute_result"
    }
   ],
   "source": [
    "news_dataset.tfidf_lem"
   ]
  },
  {
   "cell_type": "markdown",
   "metadata": {},
   "source": [
    "#### 4. Составление шаблонов"
   ]
  },
  {
   "cell_type": "markdown",
   "metadata": {},
   "source": [
    "После просмотра эталонных ключевых слов, я решила задать шаблоны вручную, потому что они достаточно простые и понятные."
   ]
  },
  {
   "cell_type": "code",
   "execution_count": 224,
   "metadata": {},
   "outputs": [],
   "source": [
    "def check_pattern(text):\n",
    "    patterns = ['NOUN', 'NOUN NOUN', 'NOUN NOUN NOUN', 'ADJ NOUN NOUN', \n",
    "                'ADJ NOUN', 'ADJ', 'VERB', 'ADV VERB', 'ADV', 'ADJ VERB NOUN']\n",
    "    doc = nlp(text)\n",
    "    pos = ' '.join([token.pos_ for token in doc])\n",
    "    for word in doc:\n",
    "        if word.pos_ in patterns:\n",
    "            return text"
   ]
  },
  {
   "cell_type": "code",
   "execution_count": 190,
   "metadata": {},
   "outputs": [],
   "source": [
    "def filter_keywords(keywords):\n",
    "    filtered = [check_pattern(w) for w in keywords]\n",
    "    return set([w for w in filtered if w])"
   ]
  },
  {
   "cell_type": "markdown",
   "metadata": {},
   "source": [
    "#### 5. Оценка метрик"
   ]
  },
  {
   "cell_type": "code",
   "execution_count": 184,
   "metadata": {},
   "outputs": [],
   "source": [
    "def evaluate(y_pred, y_true):\n",
    "    y_pred = y_pred.apply(lambda x: set([''.join(w.split()) for w in x])).values\n",
    "    y_true = y_true.apply(lambda x: set([''.join(w.split()) for w in x])).values\n",
    "\n",
    "    tp = np.apply_along_axis(func1d=lambda x: len(x[0]),\n",
    "                             axis=1,\n",
    "                             arr=np.expand_dims(y_pred & y_true, 1))\n",
    "\n",
    "    fp = np.apply_along_axis(func1d=lambda x: len(x[0]),\n",
    "                             axis=1,\n",
    "                             arr=np.expand_dims(y_pred - y_true, 1))\n",
    "    \n",
    "    fn = np.apply_along_axis(func1d=lambda x: len(x[0]),\n",
    "                             axis=1,\n",
    "                             arr=np.expand_dims(y_true - y_pred, 1))\n",
    "\n",
    "    macro_precision = (tp / (tp + fp + 1e-25)).mean()\n",
    "    macro_recall = (tp / (tp + fn)).mean()\n",
    "    macro_f1 =  (2 / (macro_recall ** -1 + macro_precision ** -1)).mean()\n",
    "\n",
    "    tp = tp.sum()\n",
    "    fp = fp.sum()\n",
    "    fn = fn.sum()\n",
    "\n",
    "    micro_precision = tp / (tp + fp) \n",
    "    micro_recall = tp / (tp + fn)\n",
    "    micro_f1 =  2 / (micro_recall ** -1 + micro_precision ** -1)\n",
    "\n",
    "    results = {'precision': {'macro': macro_precision,\n",
    "                             'micro': micro_precision},\n",
    "               'recall': {'macro': macro_recall,\n",
    "                          'micro': micro_recall},\n",
    "               'f1': {'macro': macro_f1,\n",
    "                      'micro': micro_f1}\n",
    "               }\n",
    "\n",
    "    return pd.DataFrame(results)"
   ]
  },
  {
   "cell_type": "markdown",
   "metadata": {},
   "source": [
    "#### Rake"
   ]
  },
  {
   "cell_type": "markdown",
   "metadata": {},
   "source": [
    "<p>С Rake результаты очень плачевные :(</p>\n",
    "Это связано с тем, что он совсем иначе определил ключевые слова, и ни одно из них не совпало с эталоном :("
   ]
  },
  {
   "cell_type": "code",
   "execution_count": 225,
   "metadata": {},
   "outputs": [
    {
     "name": "stderr",
     "output_type": "stream",
     "text": [
      "<ipython-input-184-ea128bf6a19e>:19: RuntimeWarning: divide by zero encountered in double_scalars\n",
      "  macro_f1 =  (2 / (macro_recall ** -1 + macro_precision ** -1)).mean()\n",
      "<ipython-input-184-ea128bf6a19e>:27: RuntimeWarning: divide by zero encountered in double_scalars\n",
      "  micro_f1 =  2 / (micro_recall ** -1 + micro_precision ** -1)\n"
     ]
    },
    {
     "data": {
      "text/html": [
       "<div>\n",
       "<style scoped>\n",
       "    .dataframe tbody tr th:only-of-type {\n",
       "        vertical-align: middle;\n",
       "    }\n",
       "\n",
       "    .dataframe tbody tr th {\n",
       "        vertical-align: top;\n",
       "    }\n",
       "\n",
       "    .dataframe thead th {\n",
       "        text-align: right;\n",
       "    }\n",
       "</style>\n",
       "<table border=\"1\" class=\"dataframe\">\n",
       "  <thead>\n",
       "    <tr style=\"text-align: right;\">\n",
       "      <th></th>\n",
       "      <th>precision</th>\n",
       "      <th>recall</th>\n",
       "      <th>f1</th>\n",
       "    </tr>\n",
       "  </thead>\n",
       "  <tbody>\n",
       "    <tr>\n",
       "      <th>macro</th>\n",
       "      <td>0.0</td>\n",
       "      <td>0.0</td>\n",
       "      <td>0.0</td>\n",
       "    </tr>\n",
       "    <tr>\n",
       "      <th>micro</th>\n",
       "      <td>0.0</td>\n",
       "      <td>0.0</td>\n",
       "      <td>0.0</td>\n",
       "    </tr>\n",
       "  </tbody>\n",
       "</table>\n",
       "</div>"
      ],
      "text/plain": [
       "       precision  recall   f1\n",
       "macro        0.0     0.0  0.0\n",
       "micro        0.0     0.0  0.0"
      ]
     },
     "execution_count": 225,
     "metadata": {},
     "output_type": "execute_result"
    }
   ],
   "source": [
    "evaluate(news_dataset.rake_raw, news_dataset.gold_keywords)"
   ]
  },
  {
   "cell_type": "code",
   "execution_count": 226,
   "metadata": {},
   "outputs": [
    {
     "name": "stderr",
     "output_type": "stream",
     "text": [
      "<ipython-input-184-ea128bf6a19e>:19: RuntimeWarning: divide by zero encountered in double_scalars\n",
      "  macro_f1 =  (2 / (macro_recall ** -1 + macro_precision ** -1)).mean()\n",
      "<ipython-input-184-ea128bf6a19e>:27: RuntimeWarning: divide by zero encountered in double_scalars\n",
      "  micro_f1 =  2 / (micro_recall ** -1 + micro_precision ** -1)\n"
     ]
    },
    {
     "data": {
      "text/html": [
       "<div>\n",
       "<style scoped>\n",
       "    .dataframe tbody tr th:only-of-type {\n",
       "        vertical-align: middle;\n",
       "    }\n",
       "\n",
       "    .dataframe tbody tr th {\n",
       "        vertical-align: top;\n",
       "    }\n",
       "\n",
       "    .dataframe thead th {\n",
       "        text-align: right;\n",
       "    }\n",
       "</style>\n",
       "<table border=\"1\" class=\"dataframe\">\n",
       "  <thead>\n",
       "    <tr style=\"text-align: right;\">\n",
       "      <th></th>\n",
       "      <th>precision</th>\n",
       "      <th>recall</th>\n",
       "      <th>f1</th>\n",
       "    </tr>\n",
       "  </thead>\n",
       "  <tbody>\n",
       "    <tr>\n",
       "      <th>macro</th>\n",
       "      <td>0.0</td>\n",
       "      <td>0.0</td>\n",
       "      <td>0.0</td>\n",
       "    </tr>\n",
       "    <tr>\n",
       "      <th>micro</th>\n",
       "      <td>0.0</td>\n",
       "      <td>0.0</td>\n",
       "      <td>0.0</td>\n",
       "    </tr>\n",
       "  </tbody>\n",
       "</table>\n",
       "</div>"
      ],
      "text/plain": [
       "       precision  recall   f1\n",
       "macro        0.0     0.0  0.0\n",
       "micro        0.0     0.0  0.0"
      ]
     },
     "execution_count": 226,
     "metadata": {},
     "output_type": "execute_result"
    }
   ],
   "source": [
    "evaluate(news_dataset.rake_raw.apply(filter_keywords), news_dataset.gold_keywords)"
   ]
  },
  {
   "cell_type": "markdown",
   "metadata": {},
   "source": [
    "Для наглядности посмотрим на первый текст."
   ]
  },
  {
   "cell_type": "code",
   "execution_count": 242,
   "metadata": {},
   "outputs": [
    {
     "data": {
      "text/plain": [
       "['vodafone',\n",
       " 'largest',\n",
       " 'brand',\n",
       " 'birla',\n",
       " 'telecom',\n",
       " 'techcrunch',\n",
       " 'idea',\n",
       " 'vi',\n",
       " 'wireless technology',\n",
       " 'billion',\n",
       " 'rebrands',\n",
       " 'company',\n",
       " 'india',\n",
       " 'giant',\n",
       " 'indian']"
      ]
     },
     "execution_count": 242,
     "metadata": {},
     "output_type": "execute_result"
    }
   ],
   "source": [
    "news_dataset.gold_keywords[0]"
   ]
  },
  {
   "cell_type": "code",
   "execution_count": 243,
   "metadata": {},
   "outputs": [
    {
     "data": {
      "text/plain": [
       "'previous brand names, largest telecom operator, vodafone idea, recent years, india, time, government, country, &'"
      ]
     },
     "execution_count": 243,
     "metadata": {},
     "output_type": "execute_result"
    }
   ],
   "source": [
    "news_dataset.rake_raw[0]"
   ]
  },
  {
   "cell_type": "markdown",
   "metadata": {},
   "source": [
    "#### TextRank"
   ]
  },
  {
   "cell_type": "code",
   "execution_count": 227,
   "metadata": {},
   "outputs": [
    {
     "data": {
      "text/html": [
       "<div>\n",
       "<style scoped>\n",
       "    .dataframe tbody tr th:only-of-type {\n",
       "        vertical-align: middle;\n",
       "    }\n",
       "\n",
       "    .dataframe tbody tr th {\n",
       "        vertical-align: top;\n",
       "    }\n",
       "\n",
       "    .dataframe thead th {\n",
       "        text-align: right;\n",
       "    }\n",
       "</style>\n",
       "<table border=\"1\" class=\"dataframe\">\n",
       "  <thead>\n",
       "    <tr style=\"text-align: right;\">\n",
       "      <th></th>\n",
       "      <th>precision</th>\n",
       "      <th>recall</th>\n",
       "      <th>f1</th>\n",
       "    </tr>\n",
       "  </thead>\n",
       "  <tbody>\n",
       "    <tr>\n",
       "      <th>macro</th>\n",
       "      <td>0.216179</td>\n",
       "      <td>0.337948</td>\n",
       "      <td>0.263684</td>\n",
       "    </tr>\n",
       "    <tr>\n",
       "      <th>micro</th>\n",
       "      <td>0.202658</td>\n",
       "      <td>0.331522</td>\n",
       "      <td>0.251546</td>\n",
       "    </tr>\n",
       "  </tbody>\n",
       "</table>\n",
       "</div>"
      ],
      "text/plain": [
       "       precision    recall        f1\n",
       "macro   0.216179  0.337948  0.263684\n",
       "micro   0.202658  0.331522  0.251546"
      ]
     },
     "execution_count": 227,
     "metadata": {},
     "output_type": "execute_result"
    }
   ],
   "source": [
    "evaluate(news_dataset.textrank, news_dataset.gold_keywords)"
   ]
  },
  {
   "cell_type": "code",
   "execution_count": 228,
   "metadata": {},
   "outputs": [
    {
     "data": {
      "text/html": [
       "<div>\n",
       "<style scoped>\n",
       "    .dataframe tbody tr th:only-of-type {\n",
       "        vertical-align: middle;\n",
       "    }\n",
       "\n",
       "    .dataframe tbody tr th {\n",
       "        vertical-align: top;\n",
       "    }\n",
       "\n",
       "    .dataframe thead th {\n",
       "        text-align: right;\n",
       "    }\n",
       "</style>\n",
       "<table border=\"1\" class=\"dataframe\">\n",
       "  <thead>\n",
       "    <tr style=\"text-align: right;\">\n",
       "      <th></th>\n",
       "      <th>precision</th>\n",
       "      <th>recall</th>\n",
       "      <th>f1</th>\n",
       "    </tr>\n",
       "  </thead>\n",
       "  <tbody>\n",
       "    <tr>\n",
       "      <th>macro</th>\n",
       "      <td>0.146172</td>\n",
       "      <td>0.148841</td>\n",
       "      <td>0.147494</td>\n",
       "    </tr>\n",
       "    <tr>\n",
       "      <th>micro</th>\n",
       "      <td>0.129808</td>\n",
       "      <td>0.146739</td>\n",
       "      <td>0.137755</td>\n",
       "    </tr>\n",
       "  </tbody>\n",
       "</table>\n",
       "</div>"
      ],
      "text/plain": [
       "       precision    recall        f1\n",
       "macro   0.146172  0.148841  0.147494\n",
       "micro   0.129808  0.146739  0.137755"
      ]
     },
     "execution_count": 228,
     "metadata": {},
     "output_type": "execute_result"
    }
   ],
   "source": [
    "evaluate(news_dataset.textrank.apply(filter_keywords), news_dataset.gold_keywords)"
   ]
  },
  {
   "cell_type": "markdown",
   "metadata": {},
   "source": [
    "#### Tf-Idf"
   ]
  },
  {
   "cell_type": "markdown",
   "metadata": {},
   "source": [
    "Tf-Idf справился лучше всех."
   ]
  },
  {
   "cell_type": "code",
   "execution_count": 229,
   "metadata": {},
   "outputs": [
    {
     "data": {
      "text/html": [
       "<div>\n",
       "<style scoped>\n",
       "    .dataframe tbody tr th:only-of-type {\n",
       "        vertical-align: middle;\n",
       "    }\n",
       "\n",
       "    .dataframe tbody tr th {\n",
       "        vertical-align: top;\n",
       "    }\n",
       "\n",
       "    .dataframe thead th {\n",
       "        text-align: right;\n",
       "    }\n",
       "</style>\n",
       "<table border=\"1\" class=\"dataframe\">\n",
       "  <thead>\n",
       "    <tr style=\"text-align: right;\">\n",
       "      <th></th>\n",
       "      <th>precision</th>\n",
       "      <th>recall</th>\n",
       "      <th>f1</th>\n",
       "    </tr>\n",
       "  </thead>\n",
       "  <tbody>\n",
       "    <tr>\n",
       "      <th>macro</th>\n",
       "      <td>0.55</td>\n",
       "      <td>0.303206</td>\n",
       "      <td>0.390909</td>\n",
       "    </tr>\n",
       "    <tr>\n",
       "      <th>micro</th>\n",
       "      <td>0.55</td>\n",
       "      <td>0.298913</td>\n",
       "      <td>0.387324</td>\n",
       "    </tr>\n",
       "  </tbody>\n",
       "</table>\n",
       "</div>"
      ],
      "text/plain": [
       "       precision    recall        f1\n",
       "macro       0.55  0.303206  0.390909\n",
       "micro       0.55  0.298913  0.387324"
      ]
     },
     "execution_count": 229,
     "metadata": {},
     "output_type": "execute_result"
    }
   ],
   "source": [
    "evaluate(news_dataset.tfidf_lem, news_dataset.gold_keywords)"
   ]
  },
  {
   "cell_type": "code",
   "execution_count": 230,
   "metadata": {},
   "outputs": [
    {
     "data": {
      "text/html": [
       "<div>\n",
       "<style scoped>\n",
       "    .dataframe tbody tr th:only-of-type {\n",
       "        vertical-align: middle;\n",
       "    }\n",
       "\n",
       "    .dataframe tbody tr th {\n",
       "        vertical-align: top;\n",
       "    }\n",
       "\n",
       "    .dataframe thead th {\n",
       "        text-align: right;\n",
       "    }\n",
       "</style>\n",
       "<table border=\"1\" class=\"dataframe\">\n",
       "  <thead>\n",
       "    <tr style=\"text-align: right;\">\n",
       "      <th></th>\n",
       "      <th>precision</th>\n",
       "      <th>recall</th>\n",
       "      <th>f1</th>\n",
       "    </tr>\n",
       "  </thead>\n",
       "  <tbody>\n",
       "    <tr>\n",
       "      <th>macro</th>\n",
       "      <td>0.429167</td>\n",
       "      <td>0.142272</td>\n",
       "      <td>0.213701</td>\n",
       "    </tr>\n",
       "    <tr>\n",
       "      <th>micro</th>\n",
       "      <td>0.448276</td>\n",
       "      <td>0.141304</td>\n",
       "      <td>0.214876</td>\n",
       "    </tr>\n",
       "  </tbody>\n",
       "</table>\n",
       "</div>"
      ],
      "text/plain": [
       "       precision    recall        f1\n",
       "macro   0.429167  0.142272  0.213701\n",
       "micro   0.448276  0.141304  0.214876"
      ]
     },
     "execution_count": 230,
     "metadata": {},
     "output_type": "execute_result"
    }
   ],
   "source": [
    "evaluate(news_dataset.tfidf_lem.apply(filter_keywords), news_dataset.gold_keywords)"
   ]
  },
  {
   "cell_type": "markdown",
   "metadata": {},
   "source": [
    "#### Final remarks"
   ]
  },
  {
   "cell_type": "markdown",
   "metadata": {},
   "source": [
    "В целом всё очень плохо, а с наложением шаблонов ситуация не улучшается."
   ]
  },
  {
   "cell_type": "markdown",
   "metadata": {},
   "source": [
    "Главная проблема, на мой взгляд, заключается в размеченных авторов датасета словах. Как я уже и сказала, есть ощущение, что их тоже разметила какая-то программа. Имеет смысл составить новый эталон либо из пересечения этих слов и своих, либо избавиться от них совсем, потому что многие из них не сообщают ключевую информацию о текстах совсем."
   ]
  },
  {
   "cell_type": "markdown",
   "metadata": {},
   "source": [
    "Не уверена, что это решило бы проблему с Rake, потому что, по-моему, он тоже выделил довольно странные сочетания, которые далеко не являются ключевыми. Вообще тексты довольно маленькие, в них в целом не так уж и много слов, чтобы с уверенностью можно было сказать, что какие-то из них более ключевые, чем другие, основываясь только на частотности. "
   ]
  },
  {
   "cell_type": "markdown",
   "metadata": {},
   "source": [
    "В целом подобная оценка ключевых слов довольно субъективна как и со стороны людей, так и со стороны алгоритмов. Мне кажется, что полагаться на частотность не всегда верно, иногда ключевые слова являются результатом обобщения некоторых часто встречаемых слов. Но такая работа обычно проводится людьми (или WordNet), а данные методы, к сожалению, опираются на только на частотность."
   ]
  }
 ],
 "metadata": {
  "kernelspec": {
   "display_name": "Python 3",
   "language": "python",
   "name": "python3"
  },
  "language_info": {
   "codemirror_mode": {
    "name": "ipython",
    "version": 3
   },
   "file_extension": ".py",
   "mimetype": "text/x-python",
   "name": "python",
   "nbconvert_exporter": "python",
   "pygments_lexer": "ipython3",
   "version": "3.8.6"
  }
 },
 "nbformat": 4,
 "nbformat_minor": 4
}
